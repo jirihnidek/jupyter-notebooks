{
 "cells": [
  {
   "cell_type": "markdown",
   "metadata": {},
   "source": [
    "# What is new in Python3?\n",
    "\n",
    "Python 3 features we could use in RHEL 8."
   ]
  },
  {
   "cell_type": "markdown",
   "metadata": {},
   "source": [
    "## RHEL 8 and Python 3\n",
    "\n",
    "RHEL 8 uses Python 3.6 and Python 3.8 is available since RHEL 8.3, but it is not installed by default (it is possible to install python38-* RPM packages there). So we will be limited by Python 3.6 for very long time. Fedora 32 uses Python 3.8. Fedora 33 uses Python 3.9."
   ]
  },
  {
   "cell_type": "markdown",
   "metadata": {},
   "source": [
    "## Keyed Argument After *args"
   ]
  },
  {
   "cell_type": "code",
   "execution_count": 61,
   "metadata": {},
   "outputs": [
    {
     "name": "stdout",
     "output_type": "stream",
     "text": [
      "1 (2, 3, 4, 5) Baaaar\n",
      "1 (2, 30) None\n",
      "1 () None\n"
     ]
    }
   ],
   "source": [
    "def old_method(foo, *args, **kwargs):\n",
    "    print(foo, args, kwargs)\n",
    "\n",
    "    \n",
    "def func_example_01(foo, *args, bar=None):\n",
    "    \"\"\"\n",
    "    Function demonstrating keyed argument after *args. It wasn't possible in Python 2.7\n",
    "    \"\"\"\n",
    "    print(foo, args, bar)\n",
    "\n",
    "    \n",
    "func_example_01(1, 2, 3, 4, 5, bar='Baaaar')\n",
    "func_example_01(1, 2, 30)\n",
    "func_example_01(1)\n"
   ]
  },
  {
   "cell_type": "markdown",
   "metadata": {},
   "source": [
    "## Key-only arguments"
   ]
  },
  {
   "cell_type": "code",
   "execution_count": 63,
   "metadata": {},
   "outputs": [
    {
     "name": "stdout",
     "output_type": "stream",
     "text": [
      "1 2 3 4\n",
      "1 2 3 4\n",
      "func_example_00() takes 2 positional arguments but 4 were given\n"
     ]
    }
   ],
   "source": [
    "def func_example_00(a, b, *, c, d):\n",
    "    \"\"\"\n",
    "    Arguments c and d has to be keyed\n",
    "    \"\"\"\n",
    "    print(a, b, c, d)\n",
    "\n",
    "func_example_00(1, 2, c=3, d=4)\n",
    "func_example_00(1, b=2, c=3, d=4)\n",
    "\n",
    "# Example of wrong usage\n",
    "try:\n",
    "    func_example_00(1, 2, 3, 4)\n",
    "except TypeError as err:\n",
    "    print(err)"
   ]
  },
  {
   "cell_type": "markdown",
   "metadata": {},
   "source": [
    "## Extended Iterable Unpacking"
   ]
  },
  {
   "cell_type": "code",
   "execution_count": 65,
   "metadata": {},
   "outputs": [
    {
     "name": "stdout",
     "output_type": "stream",
     "text": [
      "1 [2, 3, 4]\n",
      "1 2 3 4 []\n",
      "1 [2, 3] 4\n",
      "[1, 2, 3] 4\n",
      "(1, 2, 3, 4)\n"
     ]
    }
   ],
   "source": [
    "def func_example_02():\n",
    "    \"\"\"\n",
    "    Function returning tuple\n",
    "    \"\"\"\n",
    "    return 1, 2, 3, 4\n",
    "\n",
    "first, *rest = func_example_02()\n",
    "print(first, rest)\n",
    "\n",
    "first, second, third, fourth, *rest = func_example_02()\n",
    "print(first, second, third, fourth, rest)\n",
    "\n",
    "first, *rest, last = func_example_02()\n",
    "print(first, rest, last)\n",
    "\n",
    "*rest, last = func_example_02()\n",
    "print(rest, last)\n",
    "\n",
    "all = func_example_02()\n",
    "print(all)"
   ]
  },
  {
   "cell_type": "markdown",
   "metadata": {},
   "source": [
    "## Additional Unpacking Generalizations\n",
    "\n",
    "It is possible to use * and ** unpacking in function calls."
   ]
  },
  {
   "cell_type": "code",
   "execution_count": 44,
   "metadata": {},
   "outputs": [
    {
     "name": "stdout",
     "output_type": "stream",
     "text": [
      "1 2 3 4 5\n",
      "10 20 30 10 20 30\n",
      "1 2 3 4\n"
     ]
    }
   ],
   "source": [
    "print(*[1], *[2], 3, *[4, 5])\n",
    "l = [10, 20, 30]\n",
    "print(*l, *l)\n",
    "\n",
    "def func_example_02_01(a, b, c, d):\n",
    "    print(a, b, c, d)\n",
    "\n",
    "func_example_02_01(**{'a': 1, 'c': 3}, **{'b': 2, 'd': 4})"
   ]
  },
  {
   "cell_type": "markdown",
   "metadata": {},
   "source": [
    "## Type Hints"
   ]
  },
  {
   "cell_type": "code",
   "execution_count": 66,
   "metadata": {},
   "outputs": [
    {
     "name": "stdout",
     "output_type": "stream",
     "text": [
      "foo 3.1415\n",
      "foo 123\n",
      "1 None\n",
      "Help on function func_example_03 in module __main__:\n",
      "\n",
      "func_example_03(foo: str, bar: float) -> None\n",
      "    Simple doc string for this function.\n",
      "    :param foo: The foo argument\n",
      "    :param bar: The bar argument\n",
      "\n",
      "None\n",
      "{'foo': typing.Dict[str, int]}\n"
     ]
    }
   ],
   "source": [
    "# Annotation of method\n",
    "def func_example_03(foo: str, bar: float) -> None:\n",
    "    \"\"\"\n",
    "    Simple doc string for this function.\n",
    "    :param foo: The foo argument\n",
    "    :param bar: The bar argument\n",
    "    \"\"\"\n",
    "    print(foo, bar)\n",
    "\n",
    "\n",
    "# The Python is still dynamic programming language\n",
    "func_example_03('foo', 3.1415)\n",
    "func_example_03('foo', 123)\n",
    "\n",
    "# But e.g. PyCharm will show some warning in following line\n",
    "func_example_03(1, None)\n",
    "print(help(func_example_03))\n",
    "\n",
    "\n",
    "# Annotation of class variables\n",
    "class Foo(object):\n",
    "    foo: Dict[str, int] = {}\n",
    "\n",
    "# Annotations are available in __annotations__\n",
    "f = Foo()\n",
    "print(f.__annotations__)\n",
    "\n",
    "\n",
    "# Example of annotation, when more possible types is possible to use\n",
    "from typing import Union\n",
    "def func_example_03_01(foo: Union[str, int]) -> None:\n",
    "    print(foo)\n",
    "\n",
    "\n",
    "# Annotation of variable\n",
    "primes: List[int] = []\n",
    "primes.append('Hi')"
   ]
  },
  {
   "cell_type": "markdown",
   "metadata": {},
   "source": [
    "## Anotation of Function Arguments"
   ]
  },
  {
   "cell_type": "code",
   "execution_count": 14,
   "metadata": {},
   "outputs": [
    {
     "name": "stdout",
     "output_type": "stream",
     "text": [
      "foo bar\n"
     ]
    }
   ],
   "source": [
    "def func_example_04(foo: \"foo argument\", bar: \"bar argument\") -> None:\n",
    "    print(foo, bar)\n",
    "\n",
    "func_example_04('foo', 'bar')\n"
   ]
  },
  {
   "cell_type": "markdown",
   "metadata": {},
   "source": [
    "## New Keyword *nonlocal*\n",
    "\n",
    "Similar to *global* keyword. It is possible to reference variable in outer method from nested method."
   ]
  },
  {
   "cell_type": "code",
   "execution_count": 73,
   "metadata": {},
   "outputs": [
    {
     "name": "stdout",
     "output_type": "stream",
     "text": [
      "global: 10\n",
      "inner: 2\n",
      "outer: 2\n",
      "global: 10\n"
     ]
    }
   ],
   "source": [
    "x = 0\n",
    "\n",
    "def foo():\n",
    "    global x\n",
    "    x = 10\n",
    "\n",
    "def outer():\n",
    "    x = 1\n",
    "    def inner():\n",
    "        nonlocal x\n",
    "        x = 2\n",
    "        print(\"inner:\", x)\n",
    "\n",
    "    inner()\n",
    "    print(\"outer:\", x)\n",
    "\n",
    "foo()\n",
    "print(\"global:\", x)\n",
    "outer()\n",
    "print(\"global:\", x)\n"
   ]
  },
  {
   "cell_type": "markdown",
   "metadata": {},
   "source": [
    "## The u\"unicode\" syntax is accepted (again)"
   ]
  },
  {
   "cell_type": "code",
   "execution_count": 36,
   "metadata": {},
   "outputs": [
    {
     "name": "stdout",
     "output_type": "stream",
     "text": [
      "<class 'str'>\n",
      "<class 'str'>\n"
     ]
    }
   ],
   "source": [
    "s1 = \"string\"\n",
    "print(type(s1))\n",
    "\n",
    "s2 = u\"string\"  # Added back due to compatibility with Python 2.7\n",
    "print(type(s2))\n"
   ]
  },
  {
   "cell_type": "markdown",
   "metadata": {},
   "source": [
    "## Delegating to a Subgenerator"
   ]
  },
  {
   "cell_type": "code",
   "execution_count": 68,
   "metadata": {},
   "outputs": [
    {
     "name": "stdout",
     "output_type": "stream",
     "text": [
      "['p', 'y', 't', 'h', 'o', 'n', 'P', 'Y', 'T', 'H', 'O', 'N']\n"
     ]
    }
   ],
   "source": [
    "from typing import *\n",
    "\n",
    "def all_chars(s: str) -> Generator[str, None, None]:\n",
    "    yield from s.lower()\n",
    "    yield from s.upper()\n",
    "\n",
    "print(list(all_chars('Python')))"
   ]
  },
  {
   "cell_type": "markdown",
   "metadata": {},
   "source": [
    "## Coroutines with async and await syntax\n",
    "\n",
    "Jupyter doesn't like async/await for some reason...\n",
    "\n",
    "```python\n",
    "import asyncio\n",
    "\n",
    "async def coro(name, lock):\n",
    "    print('coro {}: waiting for lock'.format(name))\n",
    "    async with lock:\n",
    "        print('coro {}: holding the lock'.format(name))\n",
    "        await asyncio.sleep(1)\n",
    "        print('coro {}: releasing the lock'.format(name))\n",
    "\n",
    "loop = asyncio.get_event_loop()\n",
    "lock = asyncio.Lock()\n",
    "coros = asyncio.gather(coro(1, lock), coro(2, lock))\n",
    "try:\n",
    "    loop.run_until_complete(coros)\n",
    "finally:\n",
    "    loop.close()\n",
    "```"
   ]
  },
  {
   "cell_type": "markdown",
   "metadata": {},
   "source": [
    "## Matrix multiplication"
   ]
  },
  {
   "cell_type": "code",
   "execution_count": 27,
   "metadata": {},
   "outputs": [
    {
     "name": "stdout",
     "output_type": "stream",
     "text": [
      "[1. 1. 1.]\n",
      "[[1. 0. 0.]\n",
      " [0. 1. 0.]\n",
      " [0. 0. 1.]]\n",
      "[1. 1. 1.]\n"
     ]
    }
   ],
   "source": [
    "import numpy\n",
    "\n",
    "x = numpy.ones(3)\n",
    "print(x)\n",
    "\n",
    "m = numpy.eye(3)\n",
    "print(m)\n",
    "\n",
    "r = x @ m\n",
    "print(r)"
   ]
  },
  {
   "cell_type": "markdown",
   "metadata": {},
   "source": [
    "## Formated string literals"
   ]
  },
  {
   "cell_type": "code",
   "execution_count": 69,
   "metadata": {},
   "outputs": [
    {
     "name": "stdout",
     "output_type": "stream",
     "text": [
      "He said that his name is Joe\n",
      "result:        3.1\n"
     ]
    }
   ],
   "source": [
    "import decimal\n",
    "\n",
    "name = \"Joe\"\n",
    "print(f\"He said that his name is {name}\")\n",
    "\n",
    "width = 10\n",
    "precision = 2\n",
    "value = decimal.Decimal(\"3.1415926535897932384626433\")\n",
    "print(f\"result: {value:{width}.{precision}}\")"
   ]
  },
  {
   "cell_type": "markdown",
   "metadata": {},
   "source": [
    "## Underscores in Numeric Literals"
   ]
  },
  {
   "cell_type": "code",
   "execution_count": 37,
   "metadata": {},
   "outputs": [
    {
     "name": "stdout",
     "output_type": "stream",
     "text": [
      "1000000000\n",
      "4294967295\n"
     ]
    }
   ],
   "source": [
    "value = 1_000_000_000\n",
    "another_value = 0x_FF_FF_FF_FF\n",
    "\n",
    "print(value)\n",
    "print(another_value)"
   ]
  },
  {
   "cell_type": "markdown",
   "metadata": {},
   "source": [
    "## Asynchronous Generators\n",
    "\n",
    "Jupyter does not like anything asynchronous\n",
    "\n",
    "```python\n",
    "import asyncio\n",
    "\n",
    "async def ticker(delay, to):\n",
    "    \"\"\"Yield numbers from 0 to *to* every *delay* seconds.\"\"\"\n",
    "    for i in range(to):\n",
    "        yield i\n",
    "        await asyncio.sleep(delay)\n",
    "\n",
    "\n",
    "async def iter_items():\n",
    "    async for item in ticker(1, 5):\n",
    "        print(item)\n",
    "\n",
    "\n",
    "def main():\n",
    "    loop = asyncio.get_event_loop()\n",
    "    try:\n",
    "        loop.run_until_complete(iter_items())\n",
    "    finally:\n",
    "        loop.close()\n",
    "\n",
    "\n",
    "if __name__ == '__main__':\n",
    "    main()\n",
    "```"
   ]
  },
  {
   "cell_type": "markdown",
   "metadata": {},
   "source": [
    "## Asynchronous Comprehensions\n",
    "\n",
    "```python\n",
    "result = [i async for i in aiter() if i % 2]\n",
    "\n",
    "result = [await fun() for fun in funcs if await condition()]\n",
    "```"
   ]
  },
  {
   "cell_type": "markdown",
   "metadata": {},
   "source": [
    "## Python 3.8 Assigment expressions"
   ]
  },
  {
   "cell_type": "code",
   "execution_count": 71,
   "metadata": {},
   "outputs": [
    {
     "name": "stdout",
     "output_type": "stream",
     "text": [
      "List is too long (11 elements, expected <= 8)\n"
     ]
    }
   ],
   "source": [
    "my_list = [1, 2, 3, 4, 5, 6, 7, 8, 9, 10, 11]\n",
    "\n",
    "if (my_list_len := len(my_list)) > 8:\n",
    "    print(f\"List is too long ({my_list_len} elements, expected <= 8)\")"
   ]
  },
  {
   "cell_type": "markdown",
   "metadata": {},
   "source": [
    "## Python 3.8 Positional-only parameters"
   ]
  },
  {
   "cell_type": "code",
   "execution_count": 72,
   "metadata": {},
   "outputs": [
    {
     "name": "stdout",
     "output_type": "stream",
     "text": [
      "10 20 30 40 50 60\n",
      "10 20 30 40 50 60\n",
      "func_example_05() got some positional-only arguments passed as keyword arguments: 'b'\n"
     ]
    }
   ],
   "source": [
    "def func_example_05(a, b, /, c, d, *, e, f) -> None:\n",
    "    print(a, b, c, d, e, f)\n",
    "\n",
    "func_example_05(10, 20, 30, d=40, e=50, f=60)\n",
    "func_example_05(10, 20, c=30, d=40, e=50, f=60)\n",
    "\n",
    "# Example of wrong usage\n",
    "try:\n",
    "    func_example_05(10, b=20, c=30, d=40, e=50, f=60)\n",
    "except TypeError as err:\n",
    "    print(err)\n",
    "\n",
    "# Another wrong usage\n",
    "# try:\n",
    "#     func_example_05(10, 20, 30, 40, 50, f=60)\n",
    "# except TypeError as err:\n",
    "#     print(err)"
   ]
  },
  {
   "cell_type": "markdown",
   "metadata": {},
   "source": []
  },
  {
   "cell_type": "code",
   "execution_count": null,
   "metadata": {},
   "outputs": [],
   "source": []
  }
 ],
 "metadata": {
  "kernelspec": {
   "display_name": "Python 3",
   "language": "python",
   "name": "python3"
  },
  "language_info": {
   "codemirror_mode": {
    "name": "ipython",
    "version": 3
   },
   "file_extension": ".py",
   "mimetype": "text/x-python",
   "name": "python",
   "nbconvert_exporter": "python",
   "pygments_lexer": "ipython3",
   "version": "3.8.6"
  }
 },
 "nbformat": 4,
 "nbformat_minor": 4
}
